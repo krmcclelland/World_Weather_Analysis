{
 "cells": [
  {
   "cell_type": "code",
   "execution_count": 24,
   "id": "87cea132",
   "metadata": {},
   "outputs": [],
   "source": [
    "import requests\n",
    "from config import wkey"
   ]
  },
  {
   "cell_type": "code",
   "execution_count": 25,
   "id": "041e4275",
   "metadata": {},
   "outputs": [],
   "source": [
    "url = 'http://api.openweathermap.org/data/2.5/weather?'\n",
    "city = 'London'"
   ]
  },
  {
   "cell_type": "code",
   "execution_count": 26,
   "id": "a7318c31",
   "metadata": {},
   "outputs": [],
   "source": [
    "query_url = url + 'appid=' + wkey +'&q=' + city"
   ]
  },
  {
   "cell_type": "code",
   "execution_count": 27,
   "id": "17564d47",
   "metadata": {},
   "outputs": [],
   "source": [
    "weather_response = requests.get(query_url)\n",
    "weather_json = weather_response.json()\n"
   ]
  },
  {
   "cell_type": "code",
   "execution_count": 28,
   "id": "4b699c41",
   "metadata": {},
   "outputs": [
    {
     "data": {
      "text/plain": [
       "dict_keys(['coord', 'weather', 'base', 'main', 'visibility', 'wind', 'clouds', 'dt', 'sys', 'timezone', 'id', 'name', 'cod'])"
      ]
     },
     "execution_count": 28,
     "metadata": {},
     "output_type": "execute_result"
    }
   ],
   "source": [
    "weather_json.keys()"
   ]
  },
  {
   "cell_type": "code",
   "execution_count": 29,
   "id": "1eacbcaa",
   "metadata": {},
   "outputs": [
    {
     "data": {
      "text/plain": [
       "{'temp': 278.49,\n",
       " 'feels_like': 277.7,\n",
       " 'temp_min': 277.06,\n",
       " 'temp_max': 279.4,\n",
       " 'pressure': 998,\n",
       " 'humidity': 76}"
      ]
     },
     "execution_count": 29,
     "metadata": {},
     "output_type": "execute_result"
    }
   ],
   "source": [
    "weather_json.get('main')"
   ]
  },
  {
   "cell_type": "code",
   "execution_count": 38,
   "id": "c1dc8342",
   "metadata": {},
   "outputs": [
    {
     "data": {
      "text/plain": [
       "{'lon': -0.1257, 'lat': 51.5085}"
      ]
     },
     "execution_count": 38,
     "metadata": {},
     "output_type": "execute_result"
    }
   ],
   "source": [
    "weather_json.get('coord')"
   ]
  },
  {
   "cell_type": "code",
   "execution_count": 37,
   "id": "540933cc",
   "metadata": {},
   "outputs": [
    {
     "data": {
      "text/plain": [
       "401"
      ]
     },
     "execution_count": 37,
     "metadata": {},
     "output_type": "execute_result"
    }
   ],
   "source": [
    "city_weather.status_code"
   ]
  },
  {
   "cell_type": "code",
   "execution_count": 34,
   "id": "82389d03",
   "metadata": {},
   "outputs": [
    {
     "data": {
      "text/plain": [
       "<Response [401]>"
      ]
     },
     "execution_count": 34,
     "metadata": {},
     "output_type": "execute_result"
    }
   ],
   "source": [
    "# Create an endpoint URL for a city.\n",
    "city_url = url + \"&q=\" + \"city\"\n",
    "city_weather = requests.get(city_url)\n",
    "city_weather"
   ]
  },
  {
   "cell_type": "code",
   "execution_count": 35,
   "id": "1f64967c",
   "metadata": {},
   "outputs": [
    {
     "data": {
      "text/plain": [
       "'{\"cod\":401, \"message\": \"Invalid API key. Please see http://openweathermap.org/faq#error401 for more info.\"}'"
      ]
     },
     "execution_count": 35,
     "metadata": {},
     "output_type": "execute_result"
    }
   ],
   "source": [
    "# Get the text of the 'Get' request.\n",
    "city_weather.text"
   ]
  },
  {
   "cell_type": "code",
   "execution_count": null,
   "id": "1d7d79cf",
   "metadata": {},
   "outputs": [],
   "source": []
  }
 ],
 "metadata": {
  "kernelspec": {
   "display_name": "PythonData",
   "language": "python",
   "name": "pythondata"
  },
  "language_info": {
   "codemirror_mode": {
    "name": "ipython",
    "version": 3
   },
   "file_extension": ".py",
   "mimetype": "text/x-python",
   "name": "python",
   "nbconvert_exporter": "python",
   "pygments_lexer": "ipython3",
   "version": "3.9.7"
  }
 },
 "nbformat": 4,
 "nbformat_minor": 5
}
