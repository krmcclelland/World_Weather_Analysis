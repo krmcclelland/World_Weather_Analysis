{
 "cells": [
  {
   "cell_type": "code",
   "execution_count": 51,
   "id": "ae571e5a",
   "metadata": {},
   "outputs": [],
   "source": [
    "# Import the random module.\n",
    "import random\n",
    "\n",
    "# Import NumPy module.\n",
    "import numpy as np\n",
    "\n",
    "# Import timeit.\n",
    "import timeit"
   ]
  },
  {
   "cell_type": "code",
   "execution_count": 52,
   "id": "fe13e87f",
   "metadata": {},
   "outputs": [
    {
     "data": {
      "text/plain": [
       "0.8991300294577929"
      ]
     },
     "execution_count": 52,
     "metadata": {},
     "output_type": "execute_result"
    }
   ],
   "source": [
    "# Returns a floating point number between 0 and 1 or a large number of floating number of decimal points. \n",
    "random.random()"
   ]
  },
  {
   "cell_type": "code",
   "execution_count": 53,
   "id": "d0d2b5d6",
   "metadata": {},
   "outputs": [
    {
     "data": {
      "text/plain": [
       "-59"
      ]
     },
     "execution_count": 53,
     "metadata": {},
     "output_type": "execute_result"
    }
   ],
   "source": [
    "# Random Integer that falls within a specific range. Produces and interger between the first and second arguments, and +\\ can be equal to the upper and lower boundries.\n",
    "random.randint(-90, 90)"
   ]
  },
  {
   "cell_type": "code",
   "execution_count": 54,
   "id": "e792d9bd",
   "metadata": {},
   "outputs": [
    {
     "data": {
      "text/plain": [
       "5"
      ]
     },
     "execution_count": 54,
     "metadata": {},
     "output_type": "execute_result"
    }
   ],
   "source": [
    "# Limited by the Step Argument. Very similar to the random.randint method.  It produces an integer within a specified range. The random.range function take the STEPs from the lower to the upper boundries and pulls randomally from the pool of possible integers.   \n",
    "random.randrange(-9,9,2)"
   ]
  },
  {
   "cell_type": "code",
   "execution_count": 55,
   "id": "2aa380e1",
   "metadata": {},
   "outputs": [
    {
     "data": {
      "text/plain": [
       "-0.5719392790120086"
      ]
     },
     "execution_count": 55,
     "metadata": {},
     "output_type": "execute_result"
    }
   ],
   "source": [
    "# Will produce a value within a specified range.  However the random.uniform output is not an integer, but a value with multiple decimal    \n",
    "random.uniform(-10,10)"
   ]
  },
  {
   "cell_type": "code",
   "execution_count": 56,
   "id": "82205390",
   "metadata": {},
   "outputs": [
    {
     "data": {
      "text/plain": [
       "72.45201988636798"
      ]
     },
     "execution_count": 56,
     "metadata": {},
     "output_type": "execute_result"
    }
   ],
   "source": [
    "random_number = random.randint(-90, 89) + random.random()\n",
    "random_number"
   ]
  },
  {
   "cell_type": "code",
   "execution_count": 57,
   "id": "7490c27f",
   "metadata": {},
   "outputs": [
    {
     "data": {
      "text/plain": [
       "[58.94889594696109,\n",
       " -12.144406601827415,\n",
       " -86.12919328346004,\n",
       " -69.70396083096597,\n",
       " -75.0594413514459,\n",
       " 11.196905734334026,\n",
       " 78.26479261786264,\n",
       " 48.519721539100324,\n",
       " -28.520841696921586,\n",
       " 29.252906000416882]"
      ]
     },
     "execution_count": 57,
     "metadata": {},
     "output_type": "execute_result"
    }
   ],
   "source": [
    "x = 1\n",
    "latitudes = []\n",
    "while x < 11:\n",
    "    random_lat = random.randint(-90, 89) + random.random()\n",
    "    latitudes.append(random_lat)\n",
    "    x += 1\n",
    "\n",
    "latitudes"
   ]
  },
  {
   "cell_type": "code",
   "execution_count": 58,
   "id": "2bcd198d",
   "metadata": {},
   "outputs": [
    {
     "data": {
      "text/plain": [
       "89"
      ]
     },
     "execution_count": 58,
     "metadata": {},
     "output_type": "execute_result"
    }
   ],
   "source": [
    "random.randrange(-90,90,step = 1)"
   ]
  },
  {
   "cell_type": "code",
   "execution_count": 59,
   "id": "c4e435a0",
   "metadata": {},
   "outputs": [
    {
     "data": {
      "text/plain": [
       "-54"
      ]
     },
     "execution_count": 59,
     "metadata": {},
     "output_type": "execute_result"
    }
   ],
   "source": [
    "random.randrange(-90, 90,step = 3)"
   ]
  },
  {
   "cell_type": "code",
   "execution_count": 60,
   "id": "be3c5eb7",
   "metadata": {},
   "outputs": [
    {
     "data": {
      "text/plain": [
       "-49.50739475587408"
      ]
     },
     "execution_count": 60,
     "metadata": {},
     "output_type": "execute_result"
    }
   ],
   "source": [
    "random.uniform(-90, 90)"
   ]
  },
  {
   "cell_type": "code",
   "execution_count": 61,
   "id": "e16d0fe5",
   "metadata": {},
   "outputs": [
    {
     "data": {
      "text/plain": [
       "28.36438598424411"
      ]
     },
     "execution_count": 61,
     "metadata": {},
     "output_type": "execute_result"
    }
   ],
   "source": [
    "np.random.uniform(-90.000, 90.000)"
   ]
  },
  {
   "cell_type": "code",
   "execution_count": 62,
   "id": "5d68c545",
   "metadata": {},
   "outputs": [
    {
     "data": {
      "text/plain": [
       "53.79918880520782"
      ]
     },
     "execution_count": 62,
     "metadata": {},
     "output_type": "execute_result"
    }
   ],
   "source": [
    "np.random.uniform(low = -90, high = 90.000)"
   ]
  },
  {
   "cell_type": "code",
   "execution_count": 63,
   "id": "b2d04691",
   "metadata": {},
   "outputs": [
    {
     "data": {
      "text/plain": [
       "array([ 44.1456701 , -63.98410251,   0.99535718, -62.57597407,\n",
       "       -33.1804249 ,  88.62242577,   6.32506853,  -6.67875172,\n",
       "       -38.70744048,  78.39641582,  27.57311608,  88.83047016,\n",
       "        18.89057938, -46.00270445,  15.59784064,   1.1949534 ,\n",
       "       -40.79080094,  45.65905644,   8.47772137, -54.82063277,\n",
       "        30.05387225,  33.91733372,  63.09173074,  14.43290533,\n",
       "        12.29346591, -79.31558598,  65.60170887,  77.40299983,\n",
       "       -15.60073534,  14.34146952,  42.63540211,  18.74995398,\n",
       "        45.86792631, -31.47681468,  13.25669648, -15.36953763,\n",
       "       -73.84766529,  88.13777607, -79.00557022, -50.7818968 ,\n",
       "       -84.52253942,   0.60945238,  -7.76187887,  32.81813052,\n",
       "        44.30195605,  49.25458113,  20.95167657, -18.58542294,\n",
       "        14.33939416,  77.5310661 ])"
      ]
     },
     "execution_count": 63,
     "metadata": {},
     "output_type": "execute_result"
    }
   ],
   "source": [
    "np.random.uniform(-90.000, 90.000, size = 50)"
   ]
  },
  {
   "cell_type": "code",
   "execution_count": 66,
   "id": "1ec89522",
   "metadata": {},
   "outputs": [
    {
     "name": "stdout",
     "output_type": "stream",
     "text": [
      "14.8 µs ± 750 ns per loop (mean ± std. dev. of 7 runs, 100000 loops each)\n"
     ]
    }
   ],
   "source": [
    "# This is the fastest way to run the code!\n",
    "%timeit np.random.uniform(-90.000, 90.000, size = 1500)"
   ]
  },
  {
   "cell_type": "code",
   "execution_count": 67,
   "id": "de295a29",
   "metadata": {},
   "outputs": [
    {
     "name": "stdout",
     "output_type": "stream",
     "text": [
      "1.77 ms ± 225 µs per loop (mean ± std. dev. of 7 runs, 1000 loops each)\n"
     ]
    }
   ],
   "source": [
    "# This takes more line of code than above.\n",
    "def latitudes(size):\n",
    "    latitudes = []\n",
    "    x = 0\n",
    "    while x < (size):\n",
    "        random_lat = random.randint(-90, 90) + random.random()\n",
    "        latitudes.append(random_lat)\n",
    "        x += 1\n",
    "    return latitudes\n",
    "# Call the function with 1500.\n",
    "%timeit latitudes(1500)"
   ]
  },
  {
   "cell_type": "code",
   "execution_count": null,
   "id": "b95a1977",
   "metadata": {},
   "outputs": [],
   "source": []
  }
 ],
 "metadata": {
  "kernelspec": {
   "display_name": "PythonData",
   "language": "python",
   "name": "pythondata"
  },
  "language_info": {
   "codemirror_mode": {
    "name": "ipython",
    "version": 3
   },
   "file_extension": ".py",
   "mimetype": "text/x-python",
   "name": "python",
   "nbconvert_exporter": "python",
   "pygments_lexer": "ipython3",
   "version": "3.9.7"
  }
 },
 "nbformat": 4,
 "nbformat_minor": 5
}
